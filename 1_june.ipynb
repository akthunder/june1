{
 "cells": [
  {
   "cell_type": "markdown",
   "metadata": {},
   "source": [
    "# FABONACCI SERIES....."
   ]
  },
  {
   "cell_type": "code",
   "execution_count": 1,
   "metadata": {},
   "outputs": [
    {
     "name": "stdout",
     "output_type": "stream",
     "text": [
      "how many number u want in your series \t20\n",
      "7\n",
      "11\n",
      "18\n",
      "29\n"
     ]
    }
   ],
   "source": [
    "# This is my own method\n",
    "a,b = 3,4\n",
    "rang = int(input(\"how many number u want in your series \\t\"))\n",
    "while b<=rang:\n",
    "    c = a+b\n",
    "    b = c-a\n",
    "    a = b\n",
    "    b = c\n",
    "    print(b)"
   ]
  },
  {
   "cell_type": "code",
   "execution_count": 3,
   "metadata": {},
   "outputs": [
    {
     "name": "stdout",
     "output_type": "stream",
     "text": [
      "how many number u want in your series \t6\n",
      "1\n",
      "2\n",
      "3\n",
      "5\n",
      "8\n"
     ]
    }
   ],
   "source": [
    "# This is standard method \n",
    "a,b = 0,1\n",
    "rang = int(input(\"how many number u want in your series \\t\"))\n",
    "while b<=rang:\n",
    "    b = a+b\n",
    "    a = b-a\n",
    "    print(b)"
   ]
  },
  {
   "cell_type": "markdown",
   "metadata": {},
   "source": [
    "# PALLINDROM NUMBER ..."
   ]
  },
  {
   "cell_type": "code",
   "execution_count": 65,
   "metadata": {},
   "outputs": [
    {
     "name": "stdout",
     "output_type": "stream",
     "text": [
      "Enter your number to be checked 1221\n",
      "1221\n",
      "pallindrom\n"
     ]
    }
   ],
   "source": [
    "num = int(input(\"Enter your number to be checked \"))\n",
    "temp = num\n",
    "rev = 0\n",
    "rem = 0\n",
    "for i in range(len(str(num))):\n",
    "    rem = int(num%10)\n",
    "    num = int(num/10)\n",
    "    rev = int((rev*10)+rem)\n",
    "print(rev)\n",
    "if rev == temp:\n",
    "    print(\"pallindrom\")\n",
    "else:\n",
    "    print(\"Not pallindrom\")"
   ]
  },
  {
   "cell_type": "markdown",
   "metadata": {},
   "source": [
    "# ARMSTRONG NUMBER "
   ]
  },
  {
   "cell_type": "code",
   "execution_count": 20,
   "metadata": {},
   "outputs": [
    {
     "name": "stdout",
     "output_type": "stream",
     "text": [
      "Enter your number to be checked 371\n",
      "371\n",
      "armstrong\n"
     ]
    }
   ],
   "source": [
    "num = int(input(\"Enter your number to be checked \"))\n",
    "temp = num\n",
    "sum_of = 0\n",
    "for i in range(len(str(num))):\n",
    "    rem = int(num%10)\n",
    "    cube = int(rem*rem*rem)\n",
    "    sum_of = int(sum_of+cube)\n",
    "    num = int(num/10)\n",
    "print(sum_of)\n",
    "if sum_of == temp:\n",
    "    print(\"armstrong\")\n",
    "else:\n",
    "    print(\"Not armstrong\")"
   ]
  },
  {
   "cell_type": "code",
   "execution_count": 27,
   "metadata": {},
   "outputs": [
    {
     "name": "stdout",
     "output_type": "stream",
     "text": [
      "Enter a number 4\n",
      "24\n"
     ]
    }
   ],
   "source": [
    "# factorial \n",
    "num = int(input(\"Enter a number \"))\n",
    "sum_of = num\n",
    "for i in range(num):\n",
    "    num = num-1\n",
    "    sum_of = sum_of * (num)\n",
    "    if num<= 1:\n",
    "        break\n",
    "print(sum_of)\n",
    "    "
   ]
  },
  {
   "cell_type": "code",
   "execution_count": 28,
   "metadata": {},
   "outputs": [
    {
     "name": "stdout",
     "output_type": "stream",
     "text": [
      "0\n",
      "1\n",
      "2\n",
      "3\n",
      "4\n",
      "5\n",
      "6\n",
      "7\n",
      "8\n",
      "9\n"
     ]
    }
   ],
   "source": [
    "# whole numbers \n",
    "for i in range(10):\n",
    "    print(i)"
   ]
  },
  {
   "cell_type": "code",
   "execution_count": 32,
   "metadata": {},
   "outputs": [
    {
     "name": "stdout",
     "output_type": "stream",
     "text": [
      "How many numbers u want to print 5\n",
      "0 is the even number\n",
      "1 is the odd number\n",
      "2 is the even number\n",
      "3 is the odd number\n",
      "4 is the even number\n"
     ]
    }
   ],
   "source": [
    "# even odd numbers \n",
    "num = int(input(\"How many numbers u want to print \"))\n",
    "for i in range(num):\n",
    "    if i%2 == 0:\n",
    "        print(f'{i} is the even number')\n",
    "    else:\n",
    "        print(f'{i} is the odd number')"
   ]
  },
  {
   "cell_type": "code",
   "execution_count": 46,
   "metadata": {},
   "outputs": [
    {
     "name": "stdout",
     "output_type": "stream",
     "text": [
      "Enter the number to be checked is prime or not61\n",
      "prime number\n"
     ]
    }
   ],
   "source": [
    "# prime numbers \n",
    "num = int(input('Enter the number to be checked is prime or not'))\n",
    "for i in range(num):\n",
    "    count = 2\n",
    "    if num%count == 0:\n",
    "        print('Not a prime number ')\n",
    "        break\n",
    "    else:\n",
    "        print('prime number')\n",
    "        break\n",
    "    count += 1"
   ]
  },
  {
   "cell_type": "code",
   "execution_count": 47,
   "metadata": {},
   "outputs": [
    {
     "name": "stdout",
     "output_type": "stream",
     "text": [
      "Enter your nameakash kumar\n",
      "ramuk hsaka\n"
     ]
    }
   ],
   "source": [
    "# string reverse.\n",
    "name = input(\"Enter your name\")\n",
    "print(name[::-1])"
   ]
  },
  {
   "cell_type": "code",
   "execution_count": 60,
   "metadata": {},
   "outputs": [
    {
     "name": "stdout",
     "output_type": "stream",
     "text": [
      "Enter a number 5\n",
      "120\n"
     ]
    }
   ],
   "source": [
    "# factorial using recursion\n",
    "def factorial(n):\n",
    "    if(n==0 or n==1):\n",
    "        return 1\n",
    "    else:\n",
    "        return n*factorial(n-1)\n",
    "n = int(input(\"Enter a number \"))\n",
    "sumup = factorial(n)\n",
    "print(sumup)"
   ]
  },
  {
   "cell_type": "code",
   "execution_count": null,
   "metadata": {},
   "outputs": [],
   "source": [
    "# memory vlaue using pointer variable \n"
   ]
  },
  {
   "cell_type": "code",
   "execution_count": null,
   "metadata": {},
   "outputs": [],
   "source": []
  }
 ],
 "metadata": {
  "kernelspec": {
   "display_name": "Python 3",
   "language": "python",
   "name": "python3"
  },
  "language_info": {
   "codemirror_mode": {
    "name": "ipython",
    "version": 3
   },
   "file_extension": ".py",
   "mimetype": "text/x-python",
   "name": "python",
   "nbconvert_exporter": "python",
   "pygments_lexer": "ipython3",
   "version": "3.7.3"
  }
 },
 "nbformat": 4,
 "nbformat_minor": 4
}
